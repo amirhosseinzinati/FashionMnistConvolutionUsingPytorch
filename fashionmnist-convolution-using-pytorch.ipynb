{
 "cells": [
  {
   "cell_type": "markdown",
   "id": "0e2b8a33",
   "metadata": {
    "papermill": {
     "duration": 0.012855,
     "end_time": "2023-07-29T13:32:14.354935",
     "exception": false,
     "start_time": "2023-07-29T13:32:14.342080",
     "status": "completed"
    },
    "tags": []
   },
   "source": [
    "# ImportPackages"
   ]
  },
  {
   "cell_type": "code",
   "execution_count": 1,
   "id": "666ab382",
   "metadata": {
    "execution": {
     "iopub.execute_input": "2023-07-29T13:32:14.378627Z",
     "iopub.status.busy": "2023-07-29T13:32:14.378102Z",
     "iopub.status.idle": "2023-07-29T13:32:19.037540Z",
     "shell.execute_reply": "2023-07-29T13:32:19.036513Z"
    },
    "papermill": {
     "duration": 4.67468,
     "end_time": "2023-07-29T13:32:19.040481",
     "exception": false,
     "start_time": "2023-07-29T13:32:14.365801",
     "status": "completed"
    },
    "tags": []
   },
   "outputs": [
    {
     "name": "stderr",
     "output_type": "stream",
     "text": [
      "/opt/conda/lib/python3.10/site-packages/scipy/__init__.py:146: UserWarning: A NumPy version >=1.16.5 and <1.23.0 is required for this version of SciPy (detected version 1.23.5\n",
      "  warnings.warn(f\"A NumPy version >={np_minversion} and <{np_maxversion}\"\n"
     ]
    }
   ],
   "source": [
    "import numpy as np\n",
    "import pandas as pd\n",
    "import matplotlib.pyplot as plt\n",
    "\n",
    "import torch\n",
    "import torch.nn as nn\n",
    "from torch.autograd import Variable\n",
    "\n",
    "import torchvision\n",
    "import torchvision.transforms as transforms\n",
    "from torch.utils.data import Dataset, DataLoader\n",
    "from sklearn.metrics import confusion_matrix"
   ]
  },
  {
   "cell_type": "markdown",
   "id": "f81fe4ce",
   "metadata": {
    "papermill": {
     "duration": 0.009134,
     "end_time": "2023-07-29T13:32:19.060723",
     "exception": false,
     "start_time": "2023-07-29T13:32:19.051589",
     "status": "completed"
    },
    "tags": []
   },
   "source": [
    "# Initialization Parameters\n"
   ]
  },
  {
   "cell_type": "code",
   "execution_count": 2,
   "id": "952c7616",
   "metadata": {
    "execution": {
     "iopub.execute_input": "2023-07-29T13:32:19.081400Z",
     "iopub.status.busy": "2023-07-29T13:32:19.080812Z",
     "iopub.status.idle": "2023-07-29T13:32:19.085958Z",
     "shell.execute_reply": "2023-07-29T13:32:19.084994Z"
    },
    "papermill": {
     "duration": 0.017831,
     "end_time": "2023-07-29T13:32:19.088336",
     "exception": false,
     "start_time": "2023-07-29T13:32:19.070505",
     "status": "completed"
    },
    "tags": []
   },
   "outputs": [],
   "source": [
    "batch_size=100\n",
    "learning_rate = 0.001"
   ]
  },
  {
   "cell_type": "markdown",
   "id": "4436e4e7",
   "metadata": {
    "papermill": {
     "duration": 0.00915,
     "end_time": "2023-07-29T13:32:19.107071",
     "exception": false,
     "start_time": "2023-07-29T13:32:19.097921",
     "status": "completed"
    },
    "tags": []
   },
   "source": [
    "If the GPU is available use it for the computation otherwise use the CPU."
   ]
  },
  {
   "cell_type": "code",
   "execution_count": 3,
   "id": "bd839c34",
   "metadata": {
    "execution": {
     "iopub.execute_input": "2023-07-29T13:32:19.126961Z",
     "iopub.status.busy": "2023-07-29T13:32:19.126627Z",
     "iopub.status.idle": "2023-07-29T13:32:19.191159Z",
     "shell.execute_reply": "2023-07-29T13:32:19.189934Z"
    },
    "papermill": {
     "duration": 0.077351,
     "end_time": "2023-07-29T13:32:19.193549",
     "exception": false,
     "start_time": "2023-07-29T13:32:19.116198",
     "status": "completed"
    },
    "tags": []
   },
   "outputs": [],
   "source": [
    "device = torch.device(\"cuda\" if torch.cuda.is_available() else \"cpu\")"
   ]
  },
  {
   "cell_type": "markdown",
   "id": "dadd52c3",
   "metadata": {
    "papermill": {
     "duration": 0.010037,
     "end_time": "2023-07-29T13:32:19.214602",
     "exception": false,
     "start_time": "2023-07-29T13:32:19.204565",
     "status": "completed"
    },
    "tags": []
   },
   "source": [
    "There are 2 ways to load the Fashion MNIST dataset.\n",
    "1. Load csv and then inherite Pytorch Dataset class .\n",
    "2. Use Pytorch module torchvision.datasets. It has many popular datasets like MNIST, FashionMNIST, CIFAR10 e.t.c.\n",
    "We use DataLoader class from torch.utils.data to load data in batches in both method.\n",
    "Comment out the code of a method which you are not using"
   ]
  },
  {
   "cell_type": "markdown",
   "id": "bfd6933c",
   "metadata": {
    "papermill": {
     "duration": 0.008999,
     "end_time": "2023-07-29T13:32:19.233756",
     "exception": false,
     "start_time": "2023-07-29T13:32:19.224757",
     "status": "completed"
    },
    "tags": []
   },
   "source": [
    "# Load Data"
   ]
  },
  {
   "cell_type": "markdown",
   "id": "3d9fa356",
   "metadata": {
    "papermill": {
     "duration": 0.009265,
     "end_time": "2023-07-29T13:32:19.252550",
     "exception": false,
     "start_time": "2023-07-29T13:32:19.243285",
     "status": "completed"
    },
    "tags": []
   },
   "source": [
    "## 1. Using FashionMNIST class from torchvision module"
   ]
  },
  {
   "cell_type": "code",
   "execution_count": 4,
   "id": "5d2d953b",
   "metadata": {
    "execution": {
     "iopub.execute_input": "2023-07-29T13:32:19.273435Z",
     "iopub.status.busy": "2023-07-29T13:32:19.272439Z",
     "iopub.status.idle": "2023-07-29T13:32:20.624768Z",
     "shell.execute_reply": "2023-07-29T13:32:20.623797Z"
    },
    "papermill": {
     "duration": 1.365432,
     "end_time": "2023-07-29T13:32:20.627192",
     "exception": false,
     "start_time": "2023-07-29T13:32:19.261760",
     "status": "completed"
    },
    "tags": []
   },
   "outputs": [
    {
     "name": "stdout",
     "output_type": "stream",
     "text": [
      "Downloading http://fashion-mnist.s3-website.eu-central-1.amazonaws.com/train-images-idx3-ubyte.gz\n",
      "Downloading http://fashion-mnist.s3-website.eu-central-1.amazonaws.com/train-images-idx3-ubyte.gz to ./FashionMNIST/FashionMNIST/raw/train-images-idx3-ubyte.gz\n"
     ]
    },
    {
     "name": "stderr",
     "output_type": "stream",
     "text": [
      "100%|██████████| 26421880/26421880 [00:00<00:00, 118831597.28it/s]\n"
     ]
    },
    {
     "name": "stdout",
     "output_type": "stream",
     "text": [
      "Extracting ./FashionMNIST/FashionMNIST/raw/train-images-idx3-ubyte.gz to ./FashionMNIST/FashionMNIST/raw\n",
      "\n",
      "Downloading http://fashion-mnist.s3-website.eu-central-1.amazonaws.com/train-labels-idx1-ubyte.gz\n",
      "Downloading http://fashion-mnist.s3-website.eu-central-1.amazonaws.com/train-labels-idx1-ubyte.gz to ./FashionMNIST/FashionMNIST/raw/train-labels-idx1-ubyte.gz\n"
     ]
    },
    {
     "name": "stderr",
     "output_type": "stream",
     "text": [
      "100%|██████████| 29515/29515 [00:00<00:00, 4988711.77it/s]"
     ]
    },
    {
     "name": "stdout",
     "output_type": "stream",
     "text": [
      "Extracting ./FashionMNIST/FashionMNIST/raw/train-labels-idx1-ubyte.gz to ./FashionMNIST/FashionMNIST/raw\n",
      "\n",
      "Downloading http://fashion-mnist.s3-website.eu-central-1.amazonaws.com/t10k-images-idx3-ubyte.gz\n",
      "Downloading http://fashion-mnist.s3-website.eu-central-1.amazonaws.com/t10k-images-idx3-ubyte.gz to ./FashionMNIST/FashionMNIST/raw/t10k-images-idx3-ubyte.gz\n"
     ]
    },
    {
     "name": "stderr",
     "output_type": "stream",
     "text": [
      "\n",
      "100%|██████████| 4422102/4422102 [00:00<00:00, 57669782.50it/s]\n"
     ]
    },
    {
     "name": "stdout",
     "output_type": "stream",
     "text": [
      "Extracting ./FashionMNIST/FashionMNIST/raw/t10k-images-idx3-ubyte.gz to ./FashionMNIST/FashionMNIST/raw\n",
      "\n",
      "Downloading http://fashion-mnist.s3-website.eu-central-1.amazonaws.com/t10k-labels-idx1-ubyte.gz\n",
      "Downloading http://fashion-mnist.s3-website.eu-central-1.amazonaws.com/t10k-labels-idx1-ubyte.gz to ./FashionMNIST/FashionMNIST/raw/t10k-labels-idx1-ubyte.gz\n"
     ]
    },
    {
     "name": "stderr",
     "output_type": "stream",
     "text": [
      "100%|██████████| 5148/5148 [00:00<00:00, 12096513.72it/s]\n"
     ]
    },
    {
     "name": "stdout",
     "output_type": "stream",
     "text": [
      "Extracting ./FashionMNIST/FashionMNIST/raw/t10k-labels-idx1-ubyte.gz to ./FashionMNIST/FashionMNIST/raw\n",
      "\n"
     ]
    }
   ],
   "source": [
    "train_dataset = torchvision.datasets.FashionMNIST(\"./FashionMNIST\",train=True,transform=torchvision.transforms.Compose([transforms.ToTensor()]),target_transform=None,download=True)\n",
    "test_dataset= torchvision.datasets.FashionMNIST(\"./FashionMNIST\",train=False,transform=torchvision.transforms.Compose([transforms.ToTensor()]),target_transform=None,download=True)"
   ]
  },
  {
   "cell_type": "code",
   "execution_count": 5,
   "id": "faa0cf10",
   "metadata": {
    "execution": {
     "iopub.execute_input": "2023-07-29T13:32:20.651758Z",
     "iopub.status.busy": "2023-07-29T13:32:20.650852Z",
     "iopub.status.idle": "2023-07-29T13:32:20.656701Z",
     "shell.execute_reply": "2023-07-29T13:32:20.655761Z"
    },
    "papermill": {
     "duration": 0.020354,
     "end_time": "2023-07-29T13:32:20.658719",
     "exception": false,
     "start_time": "2023-07-29T13:32:20.638365",
     "status": "completed"
    },
    "tags": []
   },
   "outputs": [],
   "source": [
    "train_loader = torch.utils.data.DataLoader(dataset=train_dataset,batch_size=batch_size,shuffle=True)\n",
    "test_loader = torch.utils.data.DataLoader(dataset=test_dataset,batch_size=batch_size,shuffle=True)"
   ]
  },
  {
   "cell_type": "markdown",
   "id": "695ba3f0",
   "metadata": {
    "papermill": {
     "duration": 0.010586,
     "end_time": "2023-07-29T13:32:20.680581",
     "exception": false,
     "start_time": "2023-07-29T13:32:20.669995",
     "status": "completed"
    },
    "tags": []
   },
   "source": [
    "## 2. Using a Dataset class"
   ]
  },
  {
   "cell_type": "markdown",
   "id": "03b86395",
   "metadata": {
    "papermill": {
     "duration": 0.010335,
     "end_time": "2023-07-29T13:32:20.701857",
     "exception": false,
     "start_time": "2023-07-29T13:32:20.691522",
     "status": "completed"
    },
    "tags": []
   },
   "source": [
    "* First load the data from the disk using pandas read_csv() method.\n",
    "* Now inherit Dataset class in your own class that you are building, lets say FashionData.\n",
    "    * It has 2 methods: get_item( ) and len().\n",
    "    * get_item( ) return the images and labels and len( ) returns the number of items in a dataset.\n"
   ]
  },
  {
   "cell_type": "code",
   "execution_count": 6,
   "id": "80d3c6e3",
   "metadata": {
    "execution": {
     "iopub.execute_input": "2023-07-29T13:32:20.727169Z",
     "iopub.status.busy": "2023-07-29T13:32:20.725504Z",
     "iopub.status.idle": "2023-07-29T13:32:20.731172Z",
     "shell.execute_reply": "2023-07-29T13:32:20.730271Z"
    },
    "papermill": {
     "duration": 0.020449,
     "end_time": "2023-07-29T13:32:20.733574",
     "exception": false,
     "start_time": "2023-07-29T13:32:20.713125",
     "status": "completed"
    },
    "tags": []
   },
   "outputs": [],
   "source": [
    "# train_csv = pd.read_csv(\"../input/fashion-mnist_train.csv\")\n",
    "# test_csv = pd.read_csv(\"../input/fashion-mnist_test.csv\")"
   ]
  },
  {
   "cell_type": "code",
   "execution_count": 7,
   "id": "e89c2671",
   "metadata": {
    "execution": {
     "iopub.execute_input": "2023-07-29T13:32:20.756895Z",
     "iopub.status.busy": "2023-07-29T13:32:20.756622Z",
     "iopub.status.idle": "2023-07-29T13:32:20.761599Z",
     "shell.execute_reply": "2023-07-29T13:32:20.760556Z"
    },
    "papermill": {
     "duration": 0.019665,
     "end_time": "2023-07-29T13:32:20.764359",
     "exception": false,
     "start_time": "2023-07-29T13:32:20.744694",
     "status": "completed"
    },
    "tags": []
   },
   "outputs": [],
   "source": [
    "# class FashionDataset(Dataset):\n",
    "#     \"\"\"User defined class to build a datset using Pytorch class Dataset.\"\"\"\n",
    "    \n",
    "#     def __init__(self, data, transform = None):\n",
    "#         \"\"\"Method to initilaize variables.\"\"\" \n",
    "#         self.fashion_MNIST = list(data.values)\n",
    "#         self.transform = transform\n",
    "        \n",
    "#         label = []\n",
    "#         image = []\n",
    "        \n",
    "#         for i in self.fashion_MNIST:\n",
    "#              # first column is of labels.\n",
    "#             label.append(i[0])\n",
    "#             image.append(i[1:])\n",
    "#         self.labels = np.asarray(label)\n",
    "#         # Dimension of Images = 28 * 28 * 1. where height = width = 28 and color_channels = 1.\n",
    "#         self.images = np.asarray(image).reshape(-1, 28, 28, 1).astype('float32')\n",
    "\n",
    "#     def __getitem__(self, index):\n",
    "#         label = self.labels[index]\n",
    "#         image = self.images[index]\n",
    "        \n",
    "#         if self.transform is not None:\n",
    "#             image = self.transform(image)\n",
    "\n",
    "#         return image, label\n",
    "\n",
    "#     def __len__(self):\n",
    "#         return len(self.images)"
   ]
  },
  {
   "cell_type": "code",
   "execution_count": 8,
   "id": "f48f7366",
   "metadata": {
    "execution": {
     "iopub.execute_input": "2023-07-29T13:32:20.787570Z",
     "iopub.status.busy": "2023-07-29T13:32:20.787287Z",
     "iopub.status.idle": "2023-07-29T13:32:20.791163Z",
     "shell.execute_reply": "2023-07-29T13:32:20.790301Z"
    },
    "papermill": {
     "duration": 0.018011,
     "end_time": "2023-07-29T13:32:20.793327",
     "exception": false,
     "start_time": "2023-07-29T13:32:20.775316",
     "status": "completed"
    },
    "tags": []
   },
   "outputs": [],
   "source": [
    "# train_set = FashionDataset(train_csv, transform=transforms.Compose([transforms.ToTensor()]))\n",
    "# test_set = FashionDataset(test_csv, transform=transforms.Compose([transforms.ToTensor()]))"
   ]
  },
  {
   "cell_type": "markdown",
   "id": "06fcb11a",
   "metadata": {
    "papermill": {
     "duration": 0.010372,
     "end_time": "2023-07-29T13:32:20.814728",
     "exception": false,
     "start_time": "2023-07-29T13:32:20.804356",
     "status": "completed"
    },
    "tags": []
   },
   "source": [
    "## We have 10 types of clothes in FashionMNIST dataset."
   ]
  },
  {
   "cell_type": "markdown",
   "id": "8b003c2f",
   "metadata": {
    "papermill": {
     "duration": 0.011887,
     "end_time": "2023-07-29T13:32:20.838996",
     "exception": false,
     "start_time": "2023-07-29T13:32:20.827109",
     "status": "completed"
    },
    "tags": []
   },
   "source": [
    "Making a method that return the name of class for the label number. ex. if the label is 5, we return Sandal.\n"
   ]
  },
  {
   "cell_type": "code",
   "execution_count": 9,
   "id": "76c5115e",
   "metadata": {
    "execution": {
     "iopub.execute_input": "2023-07-29T13:32:20.863039Z",
     "iopub.status.busy": "2023-07-29T13:32:20.862667Z",
     "iopub.status.idle": "2023-07-29T13:32:20.868752Z",
     "shell.execute_reply": "2023-07-29T13:32:20.867735Z"
    },
    "papermill": {
     "duration": 0.020327,
     "end_time": "2023-07-29T13:32:20.870894",
     "exception": false,
     "start_time": "2023-07-29T13:32:20.850567",
     "status": "completed"
    },
    "tags": []
   },
   "outputs": [],
   "source": [
    "def output_label(label):\n",
    "    output_mapping = {\n",
    "                 0: \"T-shirt/Top\",\n",
    "                 1: \"Trouser\",\n",
    "                 2: \"Pullover\",\n",
    "                 3: \"Dress\",\n",
    "                 4: \"Coat\", \n",
    "                 5: \"Sandal\", \n",
    "                 6: \"Shirt\",\n",
    "                 7: \"Sneaker\",\n",
    "                 8: \"Bag\",\n",
    "                 9: \"Ankle Boot\"\n",
    "                 }\n",
    "    input = (label.item() if type(label) == torch.Tensor else label)\n",
    "    return output_mapping[input]"
   ]
  },
  {
   "cell_type": "markdown",
   "id": "afabe5ce",
   "metadata": {
    "papermill": {
     "duration": 0.010619,
     "end_time": "2023-07-29T13:32:20.892004",
     "exception": false,
     "start_time": "2023-07-29T13:32:20.881385",
     "status": "completed"
    },
    "tags": []
   },
   "source": [
    "# Show Some Samples"
   ]
  },
  {
   "cell_type": "markdown",
   "id": "9f2ace9f",
   "metadata": {
    "papermill": {
     "duration": 0.010368,
     "end_time": "2023-07-29T13:32:20.912917",
     "exception": false,
     "start_time": "2023-07-29T13:32:20.902549",
     "status": "completed"
    },
    "tags": []
   },
   "source": [
    "Playing with data and displaying some images using matplotlib imshow() method.¶"
   ]
  },
  {
   "cell_type": "code",
   "execution_count": 10,
   "id": "bc75d077",
   "metadata": {
    "execution": {
     "iopub.execute_input": "2023-07-29T13:32:20.936005Z",
     "iopub.status.busy": "2023-07-29T13:32:20.935108Z",
     "iopub.status.idle": "2023-07-29T13:32:20.997099Z",
     "shell.execute_reply": "2023-07-29T13:32:20.996085Z"
    },
    "papermill": {
     "duration": 0.075787,
     "end_time": "2023-07-29T13:32:20.999352",
     "exception": false,
     "start_time": "2023-07-29T13:32:20.923565",
     "status": "completed"
    },
    "tags": []
   },
   "outputs": [
    {
     "data": {
      "text/plain": [
       "torch.Size([100, 1, 28, 28])"
      ]
     },
     "execution_count": 10,
     "metadata": {},
     "output_type": "execute_result"
    }
   ],
   "source": [
    "a = next(iter(train_loader))\n",
    "a[0].size()"
   ]
  },
  {
   "cell_type": "code",
   "execution_count": 11,
   "id": "73b58696",
   "metadata": {
    "execution": {
     "iopub.execute_input": "2023-07-29T13:32:21.024428Z",
     "iopub.status.busy": "2023-07-29T13:32:21.023596Z",
     "iopub.status.idle": "2023-07-29T13:32:21.032072Z",
     "shell.execute_reply": "2023-07-29T13:32:21.031256Z"
    },
    "papermill": {
     "duration": 0.023299,
     "end_time": "2023-07-29T13:32:21.034266",
     "exception": false,
     "start_time": "2023-07-29T13:32:21.010967",
     "status": "completed"
    },
    "tags": []
   },
   "outputs": [
    {
     "data": {
      "text/plain": [
       "60000"
      ]
     },
     "execution_count": 11,
     "metadata": {},
     "output_type": "execute_result"
    }
   ],
   "source": [
    "len(train_dataset)"
   ]
  },
  {
   "cell_type": "code",
   "execution_count": 12,
   "id": "56fd7f93",
   "metadata": {
    "execution": {
     "iopub.execute_input": "2023-07-29T13:32:21.057497Z",
     "iopub.status.busy": "2023-07-29T13:32:21.057163Z",
     "iopub.status.idle": "2023-07-29T13:32:21.385194Z",
     "shell.execute_reply": "2023-07-29T13:32:21.384257Z"
    },
    "papermill": {
     "duration": 0.346318,
     "end_time": "2023-07-29T13:32:21.391761",
     "exception": false,
     "start_time": "2023-07-29T13:32:21.045443",
     "status": "completed"
    },
    "tags": []
   },
   "outputs": [
    {
     "name": "stdout",
     "output_type": "stream",
     "text": [
      "9\n"
     ]
    },
    {
     "data": {
      "image/png": "[encoded data removed]",
      "text/plain": [
       "<Figure size 640x480 with 1 Axes>"
      ]
     },
     "metadata": {},
     "output_type": "display_data"
    }
   ],
   "source": [
    "image, label = next(iter(train_dataset))\n",
    "plt.imshow(image.squeeze(), cmap=\"gray\")\n",
    "print(label)\n",
    "\n"
   ]
  },
  {
   "cell_type": "code",
   "execution_count": 13,
   "id": "04209a46",
   "metadata": {
    "execution": {
     "iopub.execute_input": "2023-07-29T13:32:21.430723Z",
     "iopub.status.busy": "2023-07-29T13:32:21.430343Z",
     "iopub.status.idle": "2023-07-29T13:32:21.446668Z",
     "shell.execute_reply": "2023-07-29T13:32:21.445598Z"
    },
    "papermill": {
     "duration": 0.044669,
     "end_time": "2023-07-29T13:32:21.453709",
     "exception": false,
     "start_time": "2023-07-29T13:32:21.409040",
     "status": "completed"
    },
    "tags": []
   },
   "outputs": [
    {
     "name": "stdout",
     "output_type": "stream",
     "text": [
      "<class 'torch.Tensor'> <class 'torch.Tensor'>\n",
      "torch.Size([10, 1, 28, 28]) torch.Size([10])\n"
     ]
    }
   ],
   "source": [
    "demo_loader = torch.utils.data.DataLoader(train_dataset, batch_size=10)\n",
    "\n",
    "batch = next(iter(demo_loader))\n",
    "images, labels = batch\n",
    "print(type(images), type(labels))\n",
    "print(images.shape, labels.shape)"
   ]
  },
  {
   "cell_type": "code",
   "execution_count": 14,
   "id": "84830a17",
   "metadata": {
    "execution": {
     "iopub.execute_input": "2023-07-29T13:32:21.517884Z",
     "iopub.status.busy": "2023-07-29T13:32:21.517493Z",
     "iopub.status.idle": "2023-07-29T13:32:21.829604Z",
     "shell.execute_reply": "2023-07-29T13:32:21.828584Z"
    },
    "papermill": {
     "duration": 0.348604,
     "end_time": "2023-07-29T13:32:21.831703",
     "exception": false,
     "start_time": "2023-07-29T13:32:21.483099",
     "status": "completed"
    },
    "tags": []
   },
   "outputs": [
    {
     "name": "stdout",
     "output_type": "stream",
     "text": [
      "labels:  Ankle Boot, T-shirt/Top, T-shirt/Top, Dress, T-shirt/Top, Pullover, Sneaker, Pullover, Sandal, Sandal, "
     ]
    },
    {
     "data": {
      "image/png": "[encoded data removed]",
      "text/plain": [
       "<Figure size 1500x2000 with 1 Axes>"
      ]
     },
     "metadata": {},
     "output_type": "display_data"
    }
   ],
   "source": [
    "\n",
    "\n",
    "grid = torchvision.utils.make_grid(images, nrow=10)\n",
    "\n",
    "plt.figure(figsize=(15, 20))\n",
    "plt.imshow(np.transpose(grid, (1, 2, 0)))\n",
    "print(\"labels: \", end=\" \")\n",
    "for i, label in enumerate(labels):\n",
    "    print(output_label(label), end=\", \")\n",
    "\n"
   ]
  },
  {
   "cell_type": "markdown",
   "id": "00782607",
   "metadata": {
    "papermill": {
     "duration": 0.011869,
     "end_time": "2023-07-29T13:32:21.855820",
     "exception": false,
     "start_time": "2023-07-29T13:32:21.843951",
     "status": "completed"
    },
    "tags": []
   },
   "source": [
    "# Building a CNN"
   ]
  },
  {
   "cell_type": "markdown",
   "id": "22f4d5e6",
   "metadata": {
    "papermill": {
     "duration": 0.013444,
     "end_time": "2023-07-29T13:32:21.882191",
     "exception": false,
     "start_time": "2023-07-29T13:32:21.868747",
     "status": "completed"
    },
    "tags": []
   },
   "source": [
    "\n",
    "* Make a model class (FashionCNN in our case)\n",
    "    *It inherit nn.Module class that is a super class for all the neural networks in Pytorch.\n",
    "\n",
    "* Our Neural Net has following layers:\n",
    "    * Two Sequential layers each consists of following layers-\n",
    "        * Convolution layer that has kernel size of 3 * 3, padding = 1 (zero_padding) in 1st layer and padding = 0 in second one. Stride of 1 in both layer.\n",
    "        * Batch Normalization layer.\n",
    "        * Acitvation function: ReLU.\n",
    "        * Max Pooling layer with kernel size of 2 * 2 and stride 2.\n",
    "            * Flatten out the output for dense layer(a.k.a. fully connected layer).\n",
    "            * 3 Fully connected layer with different in/out features.\n",
    "            * 1 Dropout layer that has class probability p = 0.25.\n",
    "        * All the functionaltiy is given in forward method that defines the forward pass of CNN.\n",
    "        * Our input image is changing in a following way:\n",
    "            * First Convulation layer : input: 28 * 28 * 3, output: 28 * 28 * 32\n",
    "            * First Max Pooling layer : input: 28 * 28 * 32, output: 14 * 14 * 32\n",
    "            * Second Conv layer : input : 14 * 14 * 32, output: 12 * 12 * 64\n",
    "            * Second Max Pooling layer : 12 * 12 * 64, output: 6 * 6 * 64\n",
    "    * Final fully connected layer has 10 output features for 10 types of clothes.\n"
   ]
  },
  {
   "cell_type": "code",
   "execution_count": 15,
   "id": "cdb545fb",
   "metadata": {
    "execution": {
     "iopub.execute_input": "2023-07-29T13:32:21.910804Z",
     "iopub.status.busy": "2023-07-29T13:32:21.910424Z",
     "iopub.status.idle": "2023-07-29T13:32:21.922259Z",
     "shell.execute_reply": "2023-07-29T13:32:21.921250Z"
    },
    "papermill": {
     "duration": 0.028986,
     "end_time": "2023-07-29T13:32:21.924644",
     "exception": false,
     "start_time": "2023-07-29T13:32:21.895658",
     "status": "completed"
    },
    "tags": []
   },
   "outputs": [],
   "source": [
    "class FashionCNN(nn.Module):\n",
    "    \n",
    "    def __init__(self):\n",
    "        super(FashionCNN, self).__init__()\n",
    "        \n",
    "        self.layer1 = nn.Sequential(\n",
    "            nn.Conv2d(in_channels=1, out_channels=32, kernel_size=3, padding=1),\n",
    "            nn.BatchNorm2d(32),\n",
    "            nn.ReLU(),\n",
    "            nn.MaxPool2d(kernel_size=2, stride=2)\n",
    "        )\n",
    "        \n",
    "        self.layer2 = nn.Sequential(\n",
    "            nn.Conv2d(in_channels=32, out_channels=64, kernel_size=3),\n",
    "            nn.BatchNorm2d(64),\n",
    "            nn.ReLU(),\n",
    "            nn.MaxPool2d(2)\n",
    "        )\n",
    "        \n",
    "        self.fc1 = nn.Linear(in_features=64*6*6, out_features=600)\n",
    "        self.drop = nn.Dropout2d(0.25)\n",
    "        self.fc2 = nn.Linear(in_features=600, out_features=120)\n",
    "        self.fc3 = nn.Linear(in_features=120, out_features=10)\n",
    "        \n",
    "    def forward(self, x):\n",
    "        out = self.layer1(x)\n",
    "        out = self.layer2(out)\n",
    "        out = out.view(out.size(0), -1)\n",
    "        out = self.fc1(out)\n",
    "        out = self.drop(out)\n",
    "        out = self.fc2(out)\n",
    "        out = self.fc3(out)\n",
    "        \n",
    "        return out"
   ]
  },
  {
   "cell_type": "markdown",
   "id": "2a3a22d2",
   "metadata": {
    "papermill": {
     "duration": 0.013387,
     "end_time": "2023-07-29T13:32:21.951671",
     "exception": false,
     "start_time": "2023-07-29T13:32:21.938284",
     "status": "completed"
    },
    "tags": []
   },
   "source": [
    "Making a model of our CNN class\n",
    "* Creating a object(model in the code)\n",
    "* Transfering it into GPU if available.\n",
    "* Defining a Loss function. we're using CrossEntropyLoss() here.\n",
    "* Using Adam algorithm for optimization purpose.\n"
   ]
  },
  {
   "cell_type": "code",
   "execution_count": 16,
   "id": "dcc92d7f",
   "metadata": {
    "execution": {
     "iopub.execute_input": "2023-07-29T13:32:21.980709Z",
     "iopub.status.busy": "2023-07-29T13:32:21.979732Z",
     "iopub.status.idle": "2023-07-29T13:32:24.797942Z",
     "shell.execute_reply": "2023-07-29T13:32:24.796298Z"
    },
    "papermill": {
     "duration": 2.835153,
     "end_time": "2023-07-29T13:32:24.800344",
     "exception": false,
     "start_time": "2023-07-29T13:32:21.965191",
     "status": "completed"
    },
    "tags": []
   },
   "outputs": [
    {
     "name": "stdout",
     "output_type": "stream",
     "text": [
      "FashionCNN(\n",
      "  (layer1): Sequential(\n",
      "    (0): Conv2d(1, 32, kernel_size=(3, 3), stride=(1, 1), padding=(1, 1))\n",
      "    (1): BatchNorm2d(32, eps=1e-05, momentum=0.1, affine=True, track_running_stats=True)\n",
      "    (2): ReLU()\n",
      "    (3): MaxPool2d(kernel_size=2, stride=2, padding=0, dilation=1, ceil_mode=False)\n",
      "  )\n",
      "  (layer2): Sequential(\n",
      "    (0): Conv2d(32, 64, kernel_size=(3, 3), stride=(1, 1))\n",
      "    (1): BatchNorm2d(64, eps=1e-05, momentum=0.1, affine=True, track_running_stats=True)\n",
      "    (2): ReLU()\n",
      "    (3): MaxPool2d(kernel_size=2, stride=2, padding=0, dilation=1, ceil_mode=False)\n",
      "  )\n",
      "  (fc1): Linear(in_features=2304, out_features=600, bias=True)\n",
      "  (drop): Dropout2d(p=0.25, inplace=False)\n",
      "  (fc2): Linear(in_features=600, out_features=120, bias=True)\n",
      "  (fc3): Linear(in_features=120, out_features=10, bias=True)\n",
      ")\n"
     ]
    }
   ],
   "source": [
    "model = FashionCNN()\n",
    "model.to(device)\n",
    "\n",
    "error = nn.CrossEntropyLoss()\n",
    "\n",
    "\n",
    "optimizer = torch.optim.Adam(model.parameters(), lr=learning_rate)\n",
    "print(model)"
   ]
  },
  {
   "cell_type": "markdown",
   "id": "8adf0033",
   "metadata": {
    "papermill": {
     "duration": 0.012435,
     "end_time": "2023-07-29T13:32:24.824953",
     "exception": false,
     "start_time": "2023-07-29T13:32:24.812518",
     "status": "completed"
    },
    "tags": []
   },
   "source": [
    "## Training a network and Testing it on test dataset"
   ]
  },
  {
   "cell_type": "code",
   "execution_count": 17,
   "id": "3ecde1f2",
   "metadata": {
    "execution": {
     "iopub.execute_input": "2023-07-29T13:32:24.849351Z",
     "iopub.status.busy": "2023-07-29T13:32:24.849022Z",
     "iopub.status.idle": "2023-07-29T13:36:12.586830Z",
     "shell.execute_reply": "2023-07-29T13:36:12.582716Z"
    },
    "papermill": {
     "duration": 227.761983,
     "end_time": "2023-07-29T13:36:12.598536",
     "exception": false,
     "start_time": "2023-07-29T13:32:24.836553",
     "status": "completed"
    },
    "tags": []
   },
   "outputs": [
    {
     "name": "stderr",
     "output_type": "stream",
     "text": [
      "/opt/conda/lib/python3.10/site-packages/torch/nn/functional.py:1331: UserWarning: dropout2d: Received a 2-D input to dropout2d, which is deprecated and will result in an error in a future release. To retain the behavior and silence this warning, please use dropout instead. Note that dropout2d exists to provide channel-wise dropout on inputs with 2 spatial dimensions, a channel dimension, and an optional batch dimension (i.e. 3D or 4D inputs).\n",
      "  warnings.warn(warn_msg)\n"
     ]
    },
    {
     "name": "stdout",
     "output_type": "stream",
     "text": [
      "Iteration: 500, Loss: 0.2821924686431885, Accuracy: 85.2699966430664%\n",
      "Iteration: 1000, Loss: 0.34798359870910645, Accuracy: 87.45999908447266%\n",
      "Iteration: 1500, Loss: 0.22218389809131622, Accuracy: 88.37999725341797%\n",
      "Iteration: 2000, Loss: 0.31054988503456116, Accuracy: 89.79000091552734%\n",
      "Iteration: 2500, Loss: 0.159319669008255, Accuracy: 90.70999908447266%\n",
      "Iteration: 3000, Loss: 0.2664334774017334, Accuracy: 89.97000122070312%\n",
      "Iteration: 3500, Loss: 0.2683866024017334, Accuracy: 91.0%\n",
      "Iteration: 4000, Loss: 0.13194361329078674, Accuracy: 91.18000030517578%\n",
      "Iteration: 4500, Loss: 0.28543606400489807, Accuracy: 91.5199966430664%\n",
      "Iteration: 5000, Loss: 0.15910488367080688, Accuracy: 90.54000091552734%\n",
      "Iteration: 5500, Loss: 0.1366577297449112, Accuracy: 91.19999694824219%\n",
      "Iteration: 6000, Loss: 0.1216447725892067, Accuracy: 91.81999969482422%\n"
     ]
    }
   ],
   "source": [
    "num_epochs = 10\n",
    "count = 0\n",
    "# Lists for visualization of loss and accuracy \n",
    "loss_list = []\n",
    "iteration_list = []\n",
    "accuracy_list = []\n",
    "\n",
    "# Lists for knowing classwise accuracy\n",
    "predictions_list = []\n",
    "labels_list = []\n",
    "\n",
    "for epoch in range(num_epochs):\n",
    "    for images, labels in train_loader:\n",
    "        # Transfering images and labels to GPU if available\n",
    "        images, labels = images.to(device), labels.to(device)\n",
    "    \n",
    "        train = Variable(images.view(100, 1, 28, 28))\n",
    "        labels = Variable(labels)\n",
    "        \n",
    "        # Forward pass \n",
    "        outputs = model(train)\n",
    "        loss = error(outputs, labels)\n",
    "        \n",
    "        # Initializing a gradient as 0 so there is no mixing of gradient among the batches\n",
    "        optimizer.zero_grad()\n",
    "        \n",
    "        #Propagating the error backward\n",
    "        loss.backward()\n",
    "        \n",
    "        # Optimizing the parameters\n",
    "        optimizer.step()\n",
    "    \n",
    "        count += 1\n",
    "    \n",
    "    # Testing the model\n",
    "    \n",
    "        if not (count % 50):    # It's same as \"if count % 50 == 0\"\n",
    "            total = 0\n",
    "            correct = 0\n",
    "        \n",
    "            for images, labels in test_loader:\n",
    "                images, labels = images.to(device), labels.to(device)\n",
    "                labels_list.append(labels)\n",
    "            \n",
    "                test = Variable(images.view(100, 1, 28, 28))\n",
    "            \n",
    "                outputs = model(test)\n",
    "            \n",
    "                predictions = torch.max(outputs, 1)[1].to(device)\n",
    "                predictions_list.append(predictions)\n",
    "                correct += (predictions == labels).sum()\n",
    "            \n",
    "                total += len(labels)\n",
    "            \n",
    "            accuracy = correct * 100 / total\n",
    "            loss_list.append(loss.data.detach().cpu())\n",
    "            iteration_list.append(count)\n",
    "            accuracy_list.append(accuracy.detach().cpu())\n",
    "        \n",
    "        if not (count % 500):\n",
    "            print(\"Iteration: {}, Loss: {}, Accuracy: {}%\".format(count, loss.data, accuracy))"
   ]
  },
  {
   "cell_type": "markdown",
   "id": "c0456005",
   "metadata": {
    "papermill": {
     "duration": 0.012487,
     "end_time": "2023-07-29T13:36:12.623777",
     "exception": false,
     "start_time": "2023-07-29T13:36:12.611290",
     "status": "completed"
    },
    "tags": []
   },
   "source": [
    "\n",
    "## Visualizing the Loss and Accuracy with Iterations\n"
   ]
  },
  {
   "cell_type": "code",
   "execution_count": 18,
   "id": "b36c15fa",
   "metadata": {
    "execution": {
     "iopub.execute_input": "2023-07-29T13:36:12.650150Z",
     "iopub.status.busy": "2023-07-29T13:36:12.649824Z",
     "iopub.status.idle": "2023-07-29T13:36:12.914010Z",
     "shell.execute_reply": "2023-07-29T13:36:12.913086Z"
    },
    "papermill": {
     "duration": 0.280133,
     "end_time": "2023-07-29T13:36:12.916316",
     "exception": false,
     "start_time": "2023-07-29T13:36:12.636183",
     "status": "completed"
    },
    "tags": []
   },
   "outputs": [
    {
     "data": {
      "image/png": "[encoded data removed]",
      "text/plain": [
       "<Figure size 640x480 with 1 Axes>"
      ]
     },
     "metadata": {},
     "output_type": "display_data"
    }
   ],
   "source": [
    "plt.plot(iteration_list, loss_list)\n",
    "plt.xlabel(\"No. of Iteration\")\n",
    "plt.ylabel(\"Loss\")\n",
    "plt.title(\"Iterations vs Loss\")\n",
    "plt.show()"
   ]
  },
  {
   "cell_type": "code",
   "execution_count": 19,
   "id": "6bda8cc5",
   "metadata": {
    "execution": {
     "iopub.execute_input": "2023-07-29T13:36:12.945247Z",
     "iopub.status.busy": "2023-07-29T13:36:12.944391Z",
     "iopub.status.idle": "2023-07-29T13:36:13.243373Z",
     "shell.execute_reply": "2023-07-29T13:36:13.242295Z"
    },
    "papermill": {
     "duration": 0.315534,
     "end_time": "2023-07-29T13:36:13.245557",
     "exception": false,
     "start_time": "2023-07-29T13:36:12.930023",
     "status": "completed"
    },
    "tags": []
   },
   "outputs": [
    {
     "data": {
      "image/png": "[encoded data removed]",
      "text/plain": [
       "<Figure size 640x480 with 1 Axes>"
      ]
     },
     "metadata": {},
     "output_type": "display_data"
    }
   ],
   "source": [
    "plt.plot(iteration_list, accuracy_list)\n",
    "plt.xlabel(\"No. of Iteration\")\n",
    "plt.ylabel(\"Accuracy\")\n",
    "plt.title(\"Iterations vs Accuracy\")\n",
    "plt.show()"
   ]
  },
  {
   "cell_type": "markdown",
   "id": "893a784c",
   "metadata": {
    "papermill": {
     "duration": 0.014171,
     "end_time": "2023-07-29T13:36:13.274277",
     "exception": false,
     "start_time": "2023-07-29T13:36:13.260106",
     "status": "completed"
    },
    "tags": []
   },
   "source": [
    "## Printing the Confusion Matrix"
   ]
  },
  {
   "cell_type": "code",
   "execution_count": 20,
   "id": "10dc6cf1",
   "metadata": {
    "execution": {
     "iopub.execute_input": "2023-07-29T13:36:13.306068Z",
     "iopub.status.busy": "2023-07-29T13:36:13.305707Z",
     "iopub.status.idle": "2023-07-29T13:36:13.846354Z",
     "shell.execute_reply": "2023-07-29T13:36:13.845339Z"
    },
    "papermill": {
     "duration": 0.559792,
     "end_time": "2023-07-29T13:36:13.848929",
     "exception": false,
     "start_time": "2023-07-29T13:36:13.289137",
     "status": "completed"
    },
    "tags": []
   },
   "outputs": [],
   "source": [
    "from itertools import chain \n",
    "\n",
    "predictions_l = [predictions_list[i].tolist() for i in range(len(predictions_list))]\n",
    "labels_l = [labels_list[i].tolist() for i in range(len(labels_list))]\n",
    "predictions_l = list(chain.from_iterable(predictions_l))\n",
    "labels_l = list(chain.from_iterable(labels_l))\n",
    "\n"
   ]
  },
  {
   "cell_type": "code",
   "execution_count": 21,
   "id": "eeaa1ffc",
   "metadata": {
    "execution": {
     "iopub.execute_input": "2023-07-29T13:36:13.879395Z",
     "iopub.status.busy": "2023-07-29T13:36:13.879049Z",
     "iopub.status.idle": "2023-07-29T13:36:18.233477Z",
     "shell.execute_reply": "2023-07-29T13:36:18.232461Z"
    },
    "papermill": {
     "duration": 4.371867,
     "end_time": "2023-07-29T13:36:18.235641",
     "exception": false,
     "start_time": "2023-07-29T13:36:13.863774",
     "status": "completed"
    },
    "tags": []
   },
   "outputs": [
    {
     "name": "stdout",
     "output_type": "stream",
     "text": [
      "Classification report for CNN :\n",
      "              precision    recall  f1-score   support\n",
      "\n",
      "           0       0.84      0.85      0.84    120000\n",
      "           1       0.99      0.98      0.98    120000\n",
      "           2       0.84      0.85      0.85    120000\n",
      "           3       0.90      0.90      0.90    120000\n",
      "           4       0.83      0.84      0.84    120000\n",
      "           5       0.97      0.97      0.97    120000\n",
      "           6       0.72      0.70      0.71    120000\n",
      "           7       0.94      0.95      0.95    120000\n",
      "           8       0.98      0.98      0.98    120000\n",
      "           9       0.97      0.96      0.96    120000\n",
      "\n",
      "    accuracy                           0.90   1200000\n",
      "   macro avg       0.90      0.90      0.90   1200000\n",
      "weighted avg       0.90      0.90      0.90   1200000\n",
      "\n",
      "\n"
     ]
    }
   ],
   "source": [
    "import sklearn.metrics as metrics\n",
    "\n",
    "confusion_matrix(labels_l, predictions_l)\n",
    "print(\"Classification report for CNN :\\n%s\\n\"\n",
    "      % (metrics.classification_report(labels_l, predictions_l)))\n",
    "\n"
   ]
  }
 ],
 "metadata": {
  "kernelspec": {
   "display_name": "Python 3",
   "language": "python",
   "name": "python3"
  },
  "language_info": {
   "codemirror_mode": {
    "name": "ipython",
    "version": 3
   },
   "file_extension": ".py",
   "mimetype": "text/x-python",
   "name": "python",
   "nbconvert_exporter": "python",
   "pygments_lexer": "ipython3",
   "version": "3.10.12"
  },
  "papermill": {
   "default_parameters": {},
   "duration": 256.950449,
   "end_time": "2023-07-29T13:36:20.275422",
   "environment_variables": {},
   "exception": null,
   "input_path": "__notebook__.ipynb",
   "output_path": "__notebook__.ipynb",
   "parameters": {},
   "start_time": "2023-07-29T13:32:03.324973",
   "version": "2.4.0"
  }
 },
 "nbformat": 4,
 "nbformat_minor": 5
}
