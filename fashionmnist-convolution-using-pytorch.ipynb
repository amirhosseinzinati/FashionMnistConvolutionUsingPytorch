{
 "cells": [
  {
   "cell_type": "code",
   "execution_count": 1,
   "id": "31a5b206",
   "metadata": {
    "execution": {
     "iopub.execute_input": "2023-07-29T13:22:33.084531Z",
     "iopub.status.busy": "2023-07-29T13:22:33.083800Z",
     "iopub.status.idle": "2023-07-29T13:22:37.777708Z",
     "shell.execute_reply": "2023-07-29T13:22:37.776745Z"
    },
    "papermill": {
     "duration": 4.707192,
     "end_time": "2023-07-29T13:22:37.780123",
     "exception": false,
     "start_time": "2023-07-29T13:22:33.072931",
     "status": "completed"
    },
    "tags": []
   },
   "outputs": [
    {
     "name": "stderr",
     "output_type": "stream",
     "text": [
      "/opt/conda/lib/python3.10/site-packages/scipy/__init__.py:146: UserWarning: A NumPy version >=1.16.5 and <1.23.0 is required for this version of SciPy (detected version 1.23.5\n",
      "  warnings.warn(f\"A NumPy version >={np_minversion} and <{np_maxversion}\"\n"
     ]
    }
   ],
   "source": [
    "import numpy as np\n",
    "import pandas as pd\n",
    "import matplotlib.pyplot as plt\n",
    "\n",
    "import torch\n",
    "import torch.nn as nn\n",
    "from torch.autograd import Variable\n",
    "\n",
    "import torchvision\n",
    "import torchvision.transforms as transforms\n",
    "from torch.utils.data import Dataset, DataLoader\n",
    "from sklearn.metrics import confusion_matrix"
   ]
  },
  {
   "cell_type": "markdown",
   "id": "139c08ad",
   "metadata": {
    "papermill": {
     "duration": 0.008576,
     "end_time": "2023-07-29T13:22:37.798119",
     "exception": false,
     "start_time": "2023-07-29T13:22:37.789543",
     "status": "completed"
    },
    "tags": []
   },
   "source": [
    "# Initialization\n"
   ]
  },
  {
   "cell_type": "code",
   "execution_count": 2,
   "id": "46630e6b",
   "metadata": {
    "execution": {
     "iopub.execute_input": "2023-07-29T13:22:37.818252Z",
     "iopub.status.busy": "2023-07-29T13:22:37.816592Z",
     "iopub.status.idle": "2023-07-29T13:22:37.821893Z",
     "shell.execute_reply": "2023-07-29T13:22:37.820901Z"
    },
    "papermill": {
     "duration": 0.017261,
     "end_time": "2023-07-29T13:22:37.824062",
     "exception": false,
     "start_time": "2023-07-29T13:22:37.806801",
     "status": "completed"
    },
    "tags": []
   },
   "outputs": [],
   "source": [
    "batch_size=100\n",
    "learning_rate = 0.001"
   ]
  },
  {
   "cell_type": "markdown",
   "id": "8fa01ffc",
   "metadata": {
    "papermill": {
     "duration": 0.00831,
     "end_time": "2023-07-29T13:22:37.841050",
     "exception": false,
     "start_time": "2023-07-29T13:22:37.832740",
     "status": "completed"
    },
    "tags": []
   },
   "source": [
    "If the GPU is available use it for the computation otherwise use the CPU."
   ]
  },
  {
   "cell_type": "code",
   "execution_count": 3,
   "id": "5b0ce376",
   "metadata": {
    "execution": {
     "iopub.execute_input": "2023-07-29T13:22:37.861811Z",
     "iopub.status.busy": "2023-07-29T13:22:37.861496Z",
     "iopub.status.idle": "2023-07-29T13:22:37.935395Z",
     "shell.execute_reply": "2023-07-29T13:22:37.934211Z"
    },
    "papermill": {
     "duration": 0.087961,
     "end_time": "2023-07-29T13:22:37.937635",
     "exception": false,
     "start_time": "2023-07-29T13:22:37.849674",
     "status": "completed"
    },
    "tags": []
   },
   "outputs": [],
   "source": [
    "device = torch.device(\"cuda\" if torch.cuda.is_available() else \"cpu\")"
   ]
  },
  {
   "cell_type": "markdown",
   "id": "420f2794",
   "metadata": {
    "papermill": {
     "duration": 0.008595,
     "end_time": "2023-07-29T13:22:37.955516",
     "exception": false,
     "start_time": "2023-07-29T13:22:37.946921",
     "status": "completed"
    },
    "tags": []
   },
   "source": [
    "There are 2 ways to load the Fashion MNIST dataset.\n",
    "1. Load csv and then inherite Pytorch Dataset class .\n",
    "2. Use Pytorch module torchvision.datasets. It has many popular datasets like MNIST, FashionMNIST, CIFAR10 e.t.c.\n",
    "We use DataLoader class from torch.utils.data to load data in batches in both method.\n",
    "Comment out the code of a method which you are not using"
   ]
  },
  {
   "cell_type": "markdown",
   "id": "b3edc170",
   "metadata": {
    "papermill": {
     "duration": 0.008447,
     "end_time": "2023-07-29T13:22:37.972902",
     "exception": false,
     "start_time": "2023-07-29T13:22:37.964455",
     "status": "completed"
    },
    "tags": []
   },
   "source": [
    "## 1. Using FashionMNIST class from torchvision module"
   ]
  },
  {
   "cell_type": "code",
   "execution_count": 4,
   "id": "cde10b83",
   "metadata": {
    "execution": {
     "iopub.execute_input": "2023-07-29T13:22:37.991752Z",
     "iopub.status.busy": "2023-07-29T13:22:37.991015Z",
     "iopub.status.idle": "2023-07-29T13:22:44.684312Z",
     "shell.execute_reply": "2023-07-29T13:22:44.683430Z"
    },
    "papermill": {
     "duration": 6.70536,
     "end_time": "2023-07-29T13:22:44.686890",
     "exception": false,
     "start_time": "2023-07-29T13:22:37.981530",
     "status": "completed"
    },
    "tags": []
   },
   "outputs": [
    {
     "name": "stdout",
     "output_type": "stream",
     "text": [
      "Downloading http://fashion-mnist.s3-website.eu-central-1.amazonaws.com/train-images-idx3-ubyte.gz\n",
      "Downloading http://fashion-mnist.s3-website.eu-central-1.amazonaws.com/train-images-idx3-ubyte.gz to ./FashionMNIST/FashionMNIST/raw/train-images-idx3-ubyte.gz\n"
     ]
    },
    {
     "name": "stderr",
     "output_type": "stream",
     "text": [
      "100%|██████████| 26421880/26421880 [00:02<00:00, 12292221.64it/s]\n"
     ]
    },
    {
     "name": "stdout",
     "output_type": "stream",
     "text": [
      "Extracting ./FashionMNIST/FashionMNIST/raw/train-images-idx3-ubyte.gz to ./FashionMNIST/FashionMNIST/raw\n",
      "\n",
      "Downloading http://fashion-mnist.s3-website.eu-central-1.amazonaws.com/train-labels-idx1-ubyte.gz\n",
      "Downloading http://fashion-mnist.s3-website.eu-central-1.amazonaws.com/train-labels-idx1-ubyte.gz to ./FashionMNIST/FashionMNIST/raw/train-labels-idx1-ubyte.gz\n"
     ]
    },
    {
     "name": "stderr",
     "output_type": "stream",
     "text": [
      "100%|██████████| 29515/29515 [00:00<00:00, 210957.79it/s]\n"
     ]
    },
    {
     "name": "stdout",
     "output_type": "stream",
     "text": [
      "Extracting ./FashionMNIST/FashionMNIST/raw/train-labels-idx1-ubyte.gz to ./FashionMNIST/FashionMNIST/raw\n",
      "\n",
      "Downloading http://fashion-mnist.s3-website.eu-central-1.amazonaws.com/t10k-images-idx3-ubyte.gz\n",
      "Downloading http://fashion-mnist.s3-website.eu-central-1.amazonaws.com/t10k-images-idx3-ubyte.gz to ./FashionMNIST/FashionMNIST/raw/t10k-images-idx3-ubyte.gz\n"
     ]
    },
    {
     "name": "stderr",
     "output_type": "stream",
     "text": [
      "100%|██████████| 4422102/4422102 [00:01<00:00, 3910519.33it/s]\n"
     ]
    },
    {
     "name": "stdout",
     "output_type": "stream",
     "text": [
      "Extracting ./FashionMNIST/FashionMNIST/raw/t10k-images-idx3-ubyte.gz to ./FashionMNIST/FashionMNIST/raw\n",
      "\n",
      "Downloading http://fashion-mnist.s3-website.eu-central-1.amazonaws.com/t10k-labels-idx1-ubyte.gz\n",
      "Downloading http://fashion-mnist.s3-website.eu-central-1.amazonaws.com/t10k-labels-idx1-ubyte.gz to ./FashionMNIST/FashionMNIST/raw/t10k-labels-idx1-ubyte.gz\n"
     ]
    },
    {
     "name": "stderr",
     "output_type": "stream",
     "text": [
      "100%|██████████| 5148/5148 [00:00<00:00, 13957515.83it/s]"
     ]
    },
    {
     "name": "stdout",
     "output_type": "stream",
     "text": [
      "Extracting ./FashionMNIST/FashionMNIST/raw/t10k-labels-idx1-ubyte.gz to ./FashionMNIST/FashionMNIST/raw\n",
      "\n"
     ]
    },
    {
     "name": "stderr",
     "output_type": "stream",
     "text": [
      "\n"
     ]
    }
   ],
   "source": [
    "train_dataset = torchvision.datasets.FashionMNIST(\"./FashionMNIST\",train=True,transform=torchvision.transforms.Compose([transforms.ToTensor()]),target_transform=None,download=True)\n",
    "test_dataset= torchvision.datasets.FashionMNIST(\"./FashionMNIST\",train=False,transform=torchvision.transforms.Compose([transforms.ToTensor()]),target_transform=None,download=True)"
   ]
  },
  {
   "cell_type": "code",
   "execution_count": 5,
   "id": "a783deee",
   "metadata": {
    "execution": {
     "iopub.execute_input": "2023-07-29T13:22:44.715247Z",
     "iopub.status.busy": "2023-07-29T13:22:44.714855Z",
     "iopub.status.idle": "2023-07-29T13:22:44.723050Z",
     "shell.execute_reply": "2023-07-29T13:22:44.721098Z"
    },
    "papermill": {
     "duration": 0.029661,
     "end_time": "2023-07-29T13:22:44.729665",
     "exception": false,
     "start_time": "2023-07-29T13:22:44.700004",
     "status": "completed"
    },
    "tags": []
   },
   "outputs": [],
   "source": [
    "train_loader = torch.utils.data.DataLoader(dataset=train_dataset,batch_size=batch_size,shuffle=True)\n",
    "test_loader = torch.utils.data.DataLoader(dataset=test_dataset,batch_size=batch_size,shuffle=True)"
   ]
  },
  {
   "cell_type": "markdown",
   "id": "3d6dec6a",
   "metadata": {
    "papermill": {
     "duration": 0.017532,
     "end_time": "2023-07-29T13:22:44.767818",
     "exception": false,
     "start_time": "2023-07-29T13:22:44.750286",
     "status": "completed"
    },
    "tags": []
   },
   "source": [
    "# 2. Using a Dataset class"
   ]
  },
  {
   "cell_type": "markdown",
   "id": "e2c80b91",
   "metadata": {
    "papermill": {
     "duration": 0.017075,
     "end_time": "2023-07-29T13:22:44.802567",
     "exception": false,
     "start_time": "2023-07-29T13:22:44.785492",
     "status": "completed"
    },
    "tags": []
   },
   "source": [
    "* First load the data from the disk using pandas read_csv() method.\n",
    "* Now inherit Dataset class in your own class that you are building, lets say FashionData.\n",
    "    * It has 2 methods: get_item( ) and len().\n",
    "    * get_item( ) return the images and labels and len( ) returns the number of items in a dataset.\n"
   ]
  },
  {
   "cell_type": "code",
   "execution_count": 6,
   "id": "8b04c454",
   "metadata": {
    "execution": {
     "iopub.execute_input": "2023-07-29T13:22:44.839125Z",
     "iopub.status.busy": "2023-07-29T13:22:44.838782Z",
     "iopub.status.idle": "2023-07-29T13:22:44.842792Z",
     "shell.execute_reply": "2023-07-29T13:22:44.841809Z"
    },
    "papermill": {
     "duration": 0.026666,
     "end_time": "2023-07-29T13:22:44.846775",
     "exception": false,
     "start_time": "2023-07-29T13:22:44.820109",
     "status": "completed"
    },
    "tags": []
   },
   "outputs": [],
   "source": [
    "# train_csv = pd.read_csv(\"../input/fashion-mnist_train.csv\")\n",
    "# test_csv = pd.read_csv(\"../input/fashion-mnist_test.csv\")"
   ]
  },
  {
   "cell_type": "code",
   "execution_count": 7,
   "id": "04daac90",
   "metadata": {
    "execution": {
     "iopub.execute_input": "2023-07-29T13:22:44.882971Z",
     "iopub.status.busy": "2023-07-29T13:22:44.882605Z",
     "iopub.status.idle": "2023-07-29T13:22:44.890174Z",
     "shell.execute_reply": "2023-07-29T13:22:44.889355Z"
    },
    "papermill": {
     "duration": 0.030047,
     "end_time": "2023-07-29T13:22:44.894292",
     "exception": false,
     "start_time": "2023-07-29T13:22:44.864245",
     "status": "completed"
    },
    "tags": []
   },
   "outputs": [],
   "source": [
    "# class FashionDataset(Dataset):\n",
    "#     \"\"\"User defined class to build a datset using Pytorch class Dataset.\"\"\"\n",
    "    \n",
    "#     def __init__(self, data, transform = None):\n",
    "#         \"\"\"Method to initilaize variables.\"\"\" \n",
    "#         self.fashion_MNIST = list(data.values)\n",
    "#         self.transform = transform\n",
    "        \n",
    "#         label = []\n",
    "#         image = []\n",
    "        \n",
    "#         for i in self.fashion_MNIST:\n",
    "#              # first column is of labels.\n",
    "#             label.append(i[0])\n",
    "#             image.append(i[1:])\n",
    "#         self.labels = np.asarray(label)\n",
    "#         # Dimension of Images = 28 * 28 * 1. where height = width = 28 and color_channels = 1.\n",
    "#         self.images = np.asarray(image).reshape(-1, 28, 28, 1).astype('float32')\n",
    "\n",
    "#     def __getitem__(self, index):\n",
    "#         label = self.labels[index]\n",
    "#         image = self.images[index]\n",
    "        \n",
    "#         if self.transform is not None:\n",
    "#             image = self.transform(image)\n",
    "\n",
    "#         return image, label\n",
    "\n",
    "#     def __len__(self):\n",
    "#         return len(self.images)"
   ]
  },
  {
   "cell_type": "code",
   "execution_count": 8,
   "id": "0e3f7dec",
   "metadata": {
    "execution": {
     "iopub.execute_input": "2023-07-29T13:22:44.930530Z",
     "iopub.status.busy": "2023-07-29T13:22:44.930233Z",
     "iopub.status.idle": "2023-07-29T13:22:44.934140Z",
     "shell.execute_reply": "2023-07-29T13:22:44.933324Z"
    },
    "papermill": {
     "duration": 0.02599,
     "end_time": "2023-07-29T13:22:44.938183",
     "exception": false,
     "start_time": "2023-07-29T13:22:44.912193",
     "status": "completed"
    },
    "tags": []
   },
   "outputs": [],
   "source": [
    "# train_set = FashionDataset(train_csv, transform=transforms.Compose([transforms.ToTensor()]))\n",
    "# test_set = FashionDataset(test_csv, transform=transforms.Compose([transforms.ToTensor()]))"
   ]
  },
  {
   "cell_type": "markdown",
   "id": "103296da",
   "metadata": {
    "papermill": {
     "duration": 0.016915,
     "end_time": "2023-07-29T13:22:44.972635",
     "exception": false,
     "start_time": "2023-07-29T13:22:44.955720",
     "status": "completed"
    },
    "tags": []
   },
   "source": [
    "### We have 10 types of clothes in FashionMNIST dataset."
   ]
  },
  {
   "cell_type": "markdown",
   "id": "134dd8e1",
   "metadata": {
    "papermill": {
     "duration": 0.017023,
     "end_time": "2023-07-29T13:22:45.007205",
     "exception": false,
     "start_time": "2023-07-29T13:22:44.990182",
     "status": "completed"
    },
    "tags": []
   },
   "source": [
    "Making a method that return the name of class for the label number. ex. if the label is 5, we return Sandal.\n"
   ]
  },
  {
   "cell_type": "code",
   "execution_count": 9,
   "id": "1a557c4d",
   "metadata": {
    "execution": {
     "iopub.execute_input": "2023-07-29T13:22:45.043216Z",
     "iopub.status.busy": "2023-07-29T13:22:45.042894Z",
     "iopub.status.idle": "2023-07-29T13:22:45.048998Z",
     "shell.execute_reply": "2023-07-29T13:22:45.048193Z"
    },
    "papermill": {
     "duration": 0.028692,
     "end_time": "2023-07-29T13:22:45.053496",
     "exception": false,
     "start_time": "2023-07-29T13:22:45.024804",
     "status": "completed"
    },
    "tags": []
   },
   "outputs": [],
   "source": [
    "def output_label(label):\n",
    "    output_mapping = {\n",
    "                 0: \"T-shirt/Top\",\n",
    "                 1: \"Trouser\",\n",
    "                 2: \"Pullover\",\n",
    "                 3: \"Dress\",\n",
    "                 4: \"Coat\", \n",
    "                 5: \"Sandal\", \n",
    "                 6: \"Shirt\",\n",
    "                 7: \"Sneaker\",\n",
    "                 8: \"Bag\",\n",
    "                 9: \"Ankle Boot\"\n",
    "                 }\n",
    "    input = (label.item() if type(label) == torch.Tensor else label)\n",
    "    return output_mapping[input]"
   ]
  },
  {
   "cell_type": "markdown",
   "id": "e827e1e2",
   "metadata": {
    "papermill": {
     "duration": 0.017038,
     "end_time": "2023-07-29T13:22:45.087930",
     "exception": false,
     "start_time": "2023-07-29T13:22:45.070892",
     "status": "completed"
    },
    "tags": []
   },
   "source": [
    "Playing with data and displaying some images using matplotlib imshow() method.¶"
   ]
  },
  {
   "cell_type": "code",
   "execution_count": 10,
   "id": "566f854a",
   "metadata": {
    "execution": {
     "iopub.execute_input": "2023-07-29T13:22:45.123837Z",
     "iopub.status.busy": "2023-07-29T13:22:45.123506Z",
     "iopub.status.idle": "2023-07-29T13:22:45.193706Z",
     "shell.execute_reply": "2023-07-29T13:22:45.192766Z"
    },
    "papermill": {
     "duration": 0.09097,
     "end_time": "2023-07-29T13:22:45.196259",
     "exception": false,
     "start_time": "2023-07-29T13:22:45.105289",
     "status": "completed"
    },
    "tags": []
   },
   "outputs": [
    {
     "data": {
      "text/plain": [
       "torch.Size([100, 1, 28, 28])"
      ]
     },
     "execution_count": 10,
     "metadata": {},
     "output_type": "execute_result"
    }
   ],
   "source": [
    "a = next(iter(train_loader))\n",
    "a[0].size()"
   ]
  },
  {
   "cell_type": "code",
   "execution_count": 11,
   "id": "1517d024",
   "metadata": {
    "execution": {
     "iopub.execute_input": "2023-07-29T13:22:45.233317Z",
     "iopub.status.busy": "2023-07-29T13:22:45.233001Z",
     "iopub.status.idle": "2023-07-29T13:22:45.238611Z",
     "shell.execute_reply": "2023-07-29T13:22:45.237831Z"
    },
    "papermill": {
     "duration": 0.029482,
     "end_time": "2023-07-29T13:22:45.244076",
     "exception": false,
     "start_time": "2023-07-29T13:22:45.214594",
     "status": "completed"
    },
    "tags": []
   },
   "outputs": [
    {
     "data": {
      "text/plain": [
       "60000"
      ]
     },
     "execution_count": 11,
     "metadata": {},
     "output_type": "execute_result"
    }
   ],
   "source": [
    "len(train_dataset)"
   ]
  },
  {
   "cell_type": "code",
   "execution_count": 12,
   "id": "c54e4be6",
   "metadata": {
    "execution": {
     "iopub.execute_input": "2023-07-29T13:22:45.280405Z",
     "iopub.status.busy": "2023-07-29T13:22:45.280100Z",
     "iopub.status.idle": "2023-07-29T13:22:45.616812Z",
     "shell.execute_reply": "2023-07-29T13:22:45.615829Z"
    },
    "papermill": {
     "duration": 0.357567,
     "end_time": "2023-07-29T13:22:45.619107",
     "exception": false,
     "start_time": "2023-07-29T13:22:45.261540",
     "status": "completed"
    },
    "tags": []
   },
   "outputs": [
    {
     "name": "stdout",
     "output_type": "stream",
     "text": [
      "9\n"
     ]
    },
    {
     "data": {
      "image/png": "[encoded data removed]",
      "text/plain": [
       "<Figure size 640x480 with 1 Axes>"
      ]
     },
     "metadata": {},
     "output_type": "display_data"
    }
   ],
   "source": [
    "image, label = next(iter(train_dataset))\n",
    "plt.imshow(image.squeeze(), cmap=\"gray\")\n",
    "print(label)\n",
    "\n"
   ]
  },
  {
   "cell_type": "code",
   "execution_count": 13,
   "id": "c2af4d65",
   "metadata": {
    "execution": {
     "iopub.execute_input": "2023-07-29T13:22:45.647286Z",
     "iopub.status.busy": "2023-07-29T13:22:45.646977Z",
     "iopub.status.idle": "2023-07-29T13:22:45.656522Z",
     "shell.execute_reply": "2023-07-29T13:22:45.655476Z"
    },
    "papermill": {
     "duration": 0.026805,
     "end_time": "2023-07-29T13:22:45.659020",
     "exception": false,
     "start_time": "2023-07-29T13:22:45.632215",
     "status": "completed"
    },
    "tags": []
   },
   "outputs": [
    {
     "name": "stdout",
     "output_type": "stream",
     "text": [
      "<class 'torch.Tensor'> <class 'torch.Tensor'>\n",
      "torch.Size([10, 1, 28, 28]) torch.Size([10])\n"
     ]
    }
   ],
   "source": [
    "demo_loader = torch.utils.data.DataLoader(train_dataset, batch_size=10)\n",
    "\n",
    "batch = next(iter(demo_loader))\n",
    "images, labels = batch\n",
    "print(type(images), type(labels))\n",
    "print(images.shape, labels.shape)"
   ]
  },
  {
   "cell_type": "code",
   "execution_count": 14,
   "id": "881c15eb",
   "metadata": {
    "execution": {
     "iopub.execute_input": "2023-07-29T13:22:45.686877Z",
     "iopub.status.busy": "2023-07-29T13:22:45.685514Z",
     "iopub.status.idle": "2023-07-29T13:22:45.970331Z",
     "shell.execute_reply": "2023-07-29T13:22:45.969391Z"
    },
    "papermill": {
     "duration": 0.300612,
     "end_time": "2023-07-29T13:22:45.972502",
     "exception": false,
     "start_time": "2023-07-29T13:22:45.671890",
     "status": "completed"
    },
    "tags": []
   },
   "outputs": [
    {
     "name": "stdout",
     "output_type": "stream",
     "text": [
      "labels:  Ankle Boot, T-shirt/Top, T-shirt/Top, Dress, T-shirt/Top, Pullover, Sneaker, Pullover, Sandal, Sandal, "
     ]
    },
    {
     "data": {
      "image/png": "[encoded data removed]",
      "text/plain": [
       "<Figure size 1500x2000 with 1 Axes>"
      ]
     },
     "metadata": {},
     "output_type": "display_data"
    }
   ],
   "source": [
    "\n",
    "\n",
    "grid = torchvision.utils.make_grid(images, nrow=10)\n",
    "\n",
    "plt.figure(figsize=(15, 20))\n",
    "plt.imshow(np.transpose(grid, (1, 2, 0)))\n",
    "print(\"labels: \", end=\" \")\n",
    "for i, label in enumerate(labels):\n",
    "    print(output_label(label), end=\", \")\n",
    "\n"
   ]
  },
  {
   "cell_type": "markdown",
   "id": "c16de2b3",
   "metadata": {
    "papermill": {
     "duration": 0.013096,
     "end_time": "2023-07-29T13:22:45.999300",
     "exception": false,
     "start_time": "2023-07-29T13:22:45.986204",
     "status": "completed"
    },
    "tags": []
   },
   "source": [
    "# Building a CNN"
   ]
  },
  {
   "cell_type": "markdown",
   "id": "7bdd73f7",
   "metadata": {
    "papermill": {
     "duration": 0.013435,
     "end_time": "2023-07-29T13:22:46.025960",
     "exception": false,
     "start_time": "2023-07-29T13:22:46.012525",
     "status": "completed"
    },
    "tags": []
   },
   "source": [
    "\n",
    "* Make a model class (FashionCNN in our case)\n",
    "    *It inherit nn.Module class that is a super class for all the neural networks in Pytorch.\n",
    "\n",
    "* Our Neural Net has following layers:\n",
    "    * Two Sequential layers each consists of following layers-\n",
    "        * Convolution layer that has kernel size of 3 * 3, padding = 1 (zero_padding) in 1st layer and padding = 0 in second one. Stride of 1 in both layer.\n",
    "        * Batch Normalization layer.\n",
    "        * Acitvation function: ReLU.\n",
    "        * Max Pooling layer with kernel size of 2 * 2 and stride 2.\n",
    "            * Flatten out the output for dense layer(a.k.a. fully connected layer).\n",
    "            * 3 Fully connected layer with different in/out features.\n",
    "            * 1 Dropout layer that has class probability p = 0.25.\n",
    "        * All the functionaltiy is given in forward method that defines the forward pass of CNN.\n",
    "        * Our input image is changing in a following way:\n",
    "            * First Convulation layer : input: 28 * 28 * 3, output: 28 * 28 * 32\n",
    "            * First Max Pooling layer : input: 28 * 28 * 32, output: 14 * 14 * 32\n",
    "            * Second Conv layer : input : 14 * 14 * 32, output: 12 * 12 * 64\n",
    "            * Second Max Pooling layer : 12 * 12 * 64, output: 6 * 6 * 64\n",
    "    * Final fully connected layer has 10 output features for 10 types of clothes.\n"
   ]
  },
  {
   "cell_type": "code",
   "execution_count": 15,
   "id": "4b97cd81",
   "metadata": {
    "execution": {
     "iopub.execute_input": "2023-07-29T13:22:46.054334Z",
     "iopub.status.busy": "2023-07-29T13:22:46.053450Z",
     "iopub.status.idle": "2023-07-29T13:22:46.063307Z",
     "shell.execute_reply": "2023-07-29T13:22:46.062214Z"
    },
    "papermill": {
     "duration": 0.026226,
     "end_time": "2023-07-29T13:22:46.065311",
     "exception": false,
     "start_time": "2023-07-29T13:22:46.039085",
     "status": "completed"
    },
    "tags": []
   },
   "outputs": [],
   "source": [
    "class FashionCNN(nn.Module):\n",
    "    \n",
    "    def __init__(self):\n",
    "        super(FashionCNN, self).__init__()\n",
    "        \n",
    "        self.layer1 = nn.Sequential(\n",
    "            nn.Conv2d(in_channels=1, out_channels=32, kernel_size=3, padding=1),\n",
    "            nn.BatchNorm2d(32),\n",
    "            nn.ReLU(),\n",
    "            nn.MaxPool2d(kernel_size=2, stride=2)\n",
    "        )\n",
    "        \n",
    "        self.layer2 = nn.Sequential(\n",
    "            nn.Conv2d(in_channels=32, out_channels=64, kernel_size=3),\n",
    "            nn.BatchNorm2d(64),\n",
    "            nn.ReLU(),\n",
    "            nn.MaxPool2d(2)\n",
    "        )\n",
    "        \n",
    "        self.fc1 = nn.Linear(in_features=64*6*6, out_features=600)\n",
    "        self.drop = nn.Dropout2d(0.25)\n",
    "        self.fc2 = nn.Linear(in_features=600, out_features=120)\n",
    "        self.fc3 = nn.Linear(in_features=120, out_features=10)\n",
    "        \n",
    "    def forward(self, x):\n",
    "        out = self.layer1(x)\n",
    "        out = self.layer2(out)\n",
    "        out = out.view(out.size(0), -1)\n",
    "        out = self.fc1(out)\n",
    "        out = self.drop(out)\n",
    "        out = self.fc2(out)\n",
    "        out = self.fc3(out)\n",
    "        \n",
    "        return out"
   ]
  },
  {
   "cell_type": "markdown",
   "id": "7fae12b5",
   "metadata": {
    "papermill": {
     "duration": 0.013118,
     "end_time": "2023-07-29T13:22:46.091549",
     "exception": false,
     "start_time": "2023-07-29T13:22:46.078431",
     "status": "completed"
    },
    "tags": []
   },
   "source": [
    "Making a model of our CNN class\n",
    "* Creating a object(model in the code)\n",
    "* Transfering it into GPU if available.\n",
    "* Defining a Loss function. we're using CrossEntropyLoss() here.\n",
    "* Using Adam algorithm for optimization purpose.\n"
   ]
  },
  {
   "cell_type": "code",
   "execution_count": 16,
   "id": "bccbbd44",
   "metadata": {
    "execution": {
     "iopub.execute_input": "2023-07-29T13:22:46.119144Z",
     "iopub.status.busy": "2023-07-29T13:22:46.118855Z",
     "iopub.status.idle": "2023-07-29T13:22:49.157241Z",
     "shell.execute_reply": "2023-07-29T13:22:49.156234Z"
    },
    "papermill": {
     "duration": 3.05502,
     "end_time": "2023-07-29T13:22:49.159993",
     "exception": false,
     "start_time": "2023-07-29T13:22:46.104973",
     "status": "completed"
    },
    "tags": []
   },
   "outputs": [
    {
     "name": "stdout",
     "output_type": "stream",
     "text": [
      "FashionCNN(\n",
      "  (layer1): Sequential(\n",
      "    (0): Conv2d(1, 32, kernel_size=(3, 3), stride=(1, 1), padding=(1, 1))\n",
      "    (1): BatchNorm2d(32, eps=1e-05, momentum=0.1, affine=True, track_running_stats=True)\n",
      "    (2): ReLU()\n",
      "    (3): MaxPool2d(kernel_size=2, stride=2, padding=0, dilation=1, ceil_mode=False)\n",
      "  )\n",
      "  (layer2): Sequential(\n",
      "    (0): Conv2d(32, 64, kernel_size=(3, 3), stride=(1, 1))\n",
      "    (1): BatchNorm2d(64, eps=1e-05, momentum=0.1, affine=True, track_running_stats=True)\n",
      "    (2): ReLU()\n",
      "    (3): MaxPool2d(kernel_size=2, stride=2, padding=0, dilation=1, ceil_mode=False)\n",
      "  )\n",
      "  (fc1): Linear(in_features=2304, out_features=600, bias=True)\n",
      "  (drop): Dropout2d(p=0.25, inplace=False)\n",
      "  (fc2): Linear(in_features=600, out_features=120, bias=True)\n",
      "  (fc3): Linear(in_features=120, out_features=10, bias=True)\n",
      ")\n"
     ]
    }
   ],
   "source": [
    "model = FashionCNN()\n",
    "model.to(device)\n",
    "\n",
    "error = nn.CrossEntropyLoss()\n",
    "\n",
    "\n",
    "optimizer = torch.optim.Adam(model.parameters(), lr=learning_rate)\n",
    "print(model)"
   ]
  },
  {
   "cell_type": "markdown",
   "id": "a15c75f2",
   "metadata": {
    "papermill": {
     "duration": 0.013504,
     "end_time": "2023-07-29T13:22:49.187781",
     "exception": false,
     "start_time": "2023-07-29T13:22:49.174277",
     "status": "completed"
    },
    "tags": []
   },
   "source": [
    "## Training a network and Testing it on test dataset"
   ]
  },
  {
   "cell_type": "code",
   "execution_count": 17,
   "id": "b85f12e9",
   "metadata": {
    "execution": {
     "iopub.execute_input": "2023-07-29T13:22:49.216066Z",
     "iopub.status.busy": "2023-07-29T13:22:49.215757Z",
     "iopub.status.idle": "2023-07-29T13:26:45.722110Z",
     "shell.execute_reply": "2023-07-29T13:26:45.721171Z"
    },
    "papermill": {
     "duration": 236.538115,
     "end_time": "2023-07-29T13:26:45.739113",
     "exception": false,
     "start_time": "2023-07-29T13:22:49.200998",
     "status": "completed"
    },
    "tags": []
   },
   "outputs": [
    {
     "name": "stderr",
     "output_type": "stream",
     "text": [
      "/opt/conda/lib/python3.10/site-packages/torch/nn/functional.py:1331: UserWarning: dropout2d: Received a 2-D input to dropout2d, which is deprecated and will result in an error in a future release. To retain the behavior and silence this warning, please use dropout instead. Note that dropout2d exists to provide channel-wise dropout on inputs with 2 spatial dimensions, a channel dimension, and an optional batch dimension (i.e. 3D or 4D inputs).\n",
      "  warnings.warn(warn_msg)\n"
     ]
    },
    {
     "name": "stdout",
     "output_type": "stream",
     "text": [
      "Iteration: 500, Loss: 0.2665584683418274, Accuracy: 86.16999816894531%\n",
      "Iteration: 1000, Loss: 0.34852609038352966, Accuracy: 88.80999755859375%\n",
      "Iteration: 1500, Loss: 0.11412981152534485, Accuracy: 90.04999542236328%\n",
      "Iteration: 2000, Loss: 0.34152472019195557, Accuracy: 90.06999969482422%\n",
      "Iteration: 2500, Loss: 0.1377250850200653, Accuracy: 89.56999969482422%\n",
      "Iteration: 3000, Loss: 0.27488985657691956, Accuracy: 90.98999786376953%\n",
      "Iteration: 3500, Loss: 0.14175543189048767, Accuracy: 90.8499984741211%\n",
      "Iteration: 4000, Loss: 0.17852477729320526, Accuracy: 90.6199951171875%\n",
      "Iteration: 4500, Loss: 0.18207252025604248, Accuracy: 90.25999450683594%\n",
      "Iteration: 5000, Loss: 0.09736074507236481, Accuracy: 90.72999572753906%\n",
      "Iteration: 5500, Loss: 0.1560738980770111, Accuracy: 91.00999450683594%\n",
      "Iteration: 6000, Loss: 0.27540791034698486, Accuracy: 88.9000015258789%\n"
     ]
    }
   ],
   "source": [
    "num_epochs = 10\n",
    "count = 0\n",
    "# Lists for visualization of loss and accuracy \n",
    "loss_list = []\n",
    "iteration_list = []\n",
    "accuracy_list = []\n",
    "\n",
    "# Lists for knowing classwise accuracy\n",
    "predictions_list = []\n",
    "labels_list = []\n",
    "\n",
    "for epoch in range(num_epochs):\n",
    "    for images, labels in train_loader:\n",
    "        # Transfering images and labels to GPU if available\n",
    "        images, labels = images.to(device), labels.to(device)\n",
    "    \n",
    "        train = Variable(images.view(100, 1, 28, 28))\n",
    "        labels = Variable(labels)\n",
    "        \n",
    "        # Forward pass \n",
    "        outputs = model(train)\n",
    "        loss = error(outputs, labels)\n",
    "        \n",
    "        # Initializing a gradient as 0 so there is no mixing of gradient among the batches\n",
    "        optimizer.zero_grad()\n",
    "        \n",
    "        #Propagating the error backward\n",
    "        loss.backward()\n",
    "        \n",
    "        # Optimizing the parameters\n",
    "        optimizer.step()\n",
    "    \n",
    "        count += 1\n",
    "    \n",
    "    # Testing the model\n",
    "    \n",
    "        if not (count % 50):    # It's same as \"if count % 50 == 0\"\n",
    "            total = 0\n",
    "            correct = 0\n",
    "        \n",
    "            for images, labels in test_loader:\n",
    "                images, labels = images.to(device), labels.to(device)\n",
    "                labels_list.append(labels)\n",
    "            \n",
    "                test = Variable(images.view(100, 1, 28, 28))\n",
    "            \n",
    "                outputs = model(test)\n",
    "            \n",
    "                predictions = torch.max(outputs, 1)[1].to(device)\n",
    "                predictions_list.append(predictions)\n",
    "                correct += (predictions == labels).sum()\n",
    "            \n",
    "                total += len(labels)\n",
    "            \n",
    "            accuracy = correct * 100 / total\n",
    "            loss_list.append(loss.data.detach().cpu())\n",
    "            iteration_list.append(count)\n",
    "            accuracy_list.append(accuracy.detach().cpu())\n",
    "        \n",
    "        if not (count % 500):\n",
    "            print(\"Iteration: {}, Loss: {}, Accuracy: {}%\".format(count, loss.data, accuracy))"
   ]
  },
  {
   "cell_type": "markdown",
   "id": "8bd46e31",
   "metadata": {
    "papermill": {
     "duration": 0.014896,
     "end_time": "2023-07-29T13:26:45.768317",
     "exception": false,
     "start_time": "2023-07-29T13:26:45.753421",
     "status": "completed"
    },
    "tags": []
   },
   "source": [
    "\n",
    "## Visualizing the Loss and Accuracy with Iterations\n"
   ]
  },
  {
   "cell_type": "code",
   "execution_count": 18,
   "id": "9540e216",
   "metadata": {
    "execution": {
     "iopub.execute_input": "2023-07-29T13:26:45.799544Z",
     "iopub.status.busy": "2023-07-29T13:26:45.798008Z",
     "iopub.status.idle": "2023-07-29T13:26:46.073731Z",
     "shell.execute_reply": "2023-07-29T13:26:46.072819Z"
    },
    "papermill": {
     "duration": 0.293581,
     "end_time": "2023-07-29T13:26:46.076072",
     "exception": false,
     "start_time": "2023-07-29T13:26:45.782491",
     "status": "completed"
    },
    "tags": []
   },
   "outputs": [
    {
     "data": {
      "image/png": "[encoded data removed]",
      "text/plain": [
       "<Figure size 640x480 with 1 Axes>"
      ]
     },
     "metadata": {},
     "output_type": "display_data"
    }
   ],
   "source": [
    "plt.plot(iteration_list, loss_list)\n",
    "plt.xlabel(\"No. of Iteration\")\n",
    "plt.ylabel(\"Loss\")\n",
    "plt.title(\"Iterations vs Loss\")\n",
    "plt.show()"
   ]
  },
  {
   "cell_type": "code",
   "execution_count": 19,
   "id": "dadbbefd",
   "metadata": {
    "execution": {
     "iopub.execute_input": "2023-07-29T13:26:46.110616Z",
     "iopub.status.busy": "2023-07-29T13:26:46.109744Z",
     "iopub.status.idle": "2023-07-29T13:26:46.377842Z",
     "shell.execute_reply": "2023-07-29T13:26:46.376823Z"
    },
    "papermill": {
     "duration": 0.286624,
     "end_time": "2023-07-29T13:26:46.380206",
     "exception": false,
     "start_time": "2023-07-29T13:26:46.093582",
     "status": "completed"
    },
    "tags": []
   },
   "outputs": [
    {
     "data": {
      "image/png": "[encoded data removed]",
      "text/plain": [
       "<Figure size 640x480 with 1 Axes>"
      ]
     },
     "metadata": {},
     "output_type": "display_data"
    }
   ],
   "source": [
    "plt.plot(iteration_list, accuracy_list)\n",
    "plt.xlabel(\"No. of Iteration\")\n",
    "plt.ylabel(\"Accuracy\")\n",
    "plt.title(\"Iterations vs Accuracy\")\n",
    "plt.show()"
   ]
  },
  {
   "cell_type": "markdown",
   "id": "10c26b71",
   "metadata": {
    "papermill": {
     "duration": 0.015333,
     "end_time": "2023-07-29T13:26:46.411511",
     "exception": false,
     "start_time": "2023-07-29T13:26:46.396178",
     "status": "completed"
    },
    "tags": []
   },
   "source": [
    "## Printing the Confusion Matrix"
   ]
  },
  {
   "cell_type": "code",
   "execution_count": 20,
   "id": "c13d3679",
   "metadata": {
    "execution": {
     "iopub.execute_input": "2023-07-29T13:26:46.444859Z",
     "iopub.status.busy": "2023-07-29T13:26:46.443868Z",
     "iopub.status.idle": "2023-07-29T13:26:47.005872Z",
     "shell.execute_reply": "2023-07-29T13:26:47.004809Z"
    },
    "papermill": {
     "duration": 0.581182,
     "end_time": "2023-07-29T13:26:47.008418",
     "exception": false,
     "start_time": "2023-07-29T13:26:46.427236",
     "status": "completed"
    },
    "tags": []
   },
   "outputs": [],
   "source": [
    "from itertools import chain \n",
    "\n",
    "predictions_l = [predictions_list[i].tolist() for i in range(len(predictions_list))]\n",
    "labels_l = [labels_list[i].tolist() for i in range(len(labels_list))]\n",
    "predictions_l = list(chain.from_iterable(predictions_l))\n",
    "labels_l = list(chain.from_iterable(labels_l))\n",
    "\n"
   ]
  },
  {
   "cell_type": "code",
   "execution_count": 21,
   "id": "34a72521",
   "metadata": {
    "execution": {
     "iopub.execute_input": "2023-07-29T13:26:47.042503Z",
     "iopub.status.busy": "2023-07-29T13:26:47.041602Z",
     "iopub.status.idle": "2023-07-29T13:26:51.429540Z",
     "shell.execute_reply": "2023-07-29T13:26:51.427669Z"
    },
    "papermill": {
     "duration": 4.407506,
     "end_time": "2023-07-29T13:26:51.432061",
     "exception": false,
     "start_time": "2023-07-29T13:26:47.024555",
     "status": "completed"
    },
    "tags": []
   },
   "outputs": [
    {
     "name": "stdout",
     "output_type": "stream",
     "text": [
      "Classification report for CNN :\n",
      "              precision    recall  f1-score   support\n",
      "\n",
      "           0       0.85      0.85      0.85    120000\n",
      "           1       0.99      0.98      0.98    120000\n",
      "           2       0.84      0.85      0.84    120000\n",
      "           3       0.89      0.90      0.89    120000\n",
      "           4       0.83      0.85      0.84    120000\n",
      "           5       0.97      0.97      0.97    120000\n",
      "           6       0.73      0.69      0.71    120000\n",
      "           7       0.94      0.96      0.95    120000\n",
      "           8       0.97      0.98      0.98    120000\n",
      "           9       0.96      0.95      0.96    120000\n",
      "\n",
      "    accuracy                           0.90   1200000\n",
      "   macro avg       0.90      0.90      0.90   1200000\n",
      "weighted avg       0.90      0.90      0.90   1200000\n",
      "\n",
      "\n"
     ]
    }
   ],
   "source": [
    "import sklearn.metrics as metrics\n",
    "\n",
    "confusion_matrix(labels_l, predictions_l)\n",
    "print(\"Classification report for CNN :\\n%s\\n\"\n",
    "      % (metrics.classification_report(labels_l, predictions_l)))\n",
    "\n"
   ]
  }
 ],
 "metadata": {
  "kernelspec": {
   "display_name": "Python 3",
   "language": "python",
   "name": "python3"
  },
  "language_info": {
   "codemirror_mode": {
    "name": "ipython",
    "version": 3
   },
   "file_extension": ".py",
   "mimetype": "text/x-python",
   "name": "python",
   "nbconvert_exporter": "python",
   "pygments_lexer": "ipython3",
   "version": "3.10.12"
  },
  "papermill": {
   "default_parameters": {},
   "duration": 270.922438,
   "end_time": "2023-07-29T13:26:53.774060",
   "environment_variables": {},
   "exception": null,
   "input_path": "__notebook__.ipynb",
   "output_path": "__notebook__.ipynb",
   "parameters": {},
   "start_time": "2023-07-29T13:22:22.851622",
   "version": "2.4.0"
  }
 },
 "nbformat": 4,
 "nbformat_minor": 5
}
